{
 "cells": [
  {
   "cell_type": "code",
   "execution_count": 6,
   "metadata": {},
   "outputs": [],
   "source": [
    "import papermill"
   ]
  },
  {
   "cell_type": "code",
   "execution_count": 7,
   "metadata": {},
   "outputs": [
    {
     "data": {
      "application/vnd.jupyter.widget-view+json": {
       "model_id": "e916fd5a85f84580b925ca0c138ec100",
       "version_major": 2,
       "version_minor": 0
      },
      "text/plain": [
       "HBox(children=(IntProgress(value=0, max=8), HTML(value='')))"
      ]
     },
     "metadata": {},
     "output_type": "display_data"
    },
    {
     "name": "stdout",
     "output_type": "stream",
     "text": [
      "\n"
     ]
    },
    {
     "data": {
      "text/plain": [
       "{'cells': [{'cell_type': 'code',\n",
       "   'execution_count': 1,\n",
       "   'metadata': {'tags': [],\n",
       "    'papermill': {'exception': False,\n",
       "     'start_time': '2019-05-05T09:39:10.490274',\n",
       "     'end_time': '2019-05-05T09:39:10.504798',\n",
       "     'duration': 0.014524,\n",
       "     'status': 'completed'}},\n",
       "   'outputs': [],\n",
       "   'source': 'import json\\nimport io'},\n",
       "  {'cell_type': 'code',\n",
       "   'execution_count': 2,\n",
       "   'metadata': {'tags': ['parameters'],\n",
       "    'papermill': {'exception': False,\n",
       "     'start_time': '2019-05-05T09:39:10.511570',\n",
       "     'end_time': '2019-05-05T09:39:10.523160',\n",
       "     'duration': 0.01159,\n",
       "     'status': 'completed'}},\n",
       "   'outputs': [],\n",
       "   'source': 'nb_name = \"Assembling components.ipynb\"\\ntitle = \"Assembling components of a design language for Jupyter notebooks\"'},\n",
       "  {'cell_type': 'code',\n",
       "   'metadata': {'tags': ['injected-parameters'],\n",
       "    'papermill': {'exception': False,\n",
       "     'start_time': '2019-05-05T09:39:10.527598',\n",
       "     'end_time': '2019-05-05T09:39:10.537028',\n",
       "     'duration': 0.00943,\n",
       "     'status': 'completed'}},\n",
       "   'execution_count': 3,\n",
       "   'source': '# Parameters\\nnb_name = \"Assembling Components.ipynb\"\\ntitle = \"Reaching across notebooks is possible, if done responsibly.\"\\n',\n",
       "   'outputs': []},\n",
       "  {'cell_type': 'code',\n",
       "   'execution_count': 4,\n",
       "   'metadata': {'tags': [],\n",
       "    'papermill': {'exception': False,\n",
       "     'start_time': '2019-05-05T09:39:10.540956',\n",
       "     'end_time': '2019-05-05T09:39:10.553823',\n",
       "     'duration': 0.012867,\n",
       "     'status': 'completed'}},\n",
       "   'outputs': [{'output_type': 'display_data',\n",
       "     'metadata': {},\n",
       "     'data': {'text/plain': '{\\'cells\\': [{\\'cell_type\\': \\'code\\',\\n   \\'execution_count\\': 1,\\n   \\'metadata\\': {},\\n   \\'outputs\\': [],\\n   \\'source\\': [\\'from vdom.svg import *\\\\n\\', \\'\\\\n\\']},\\n  {\\'cell_type\\': \\'markdown\\',\\n   \\'metadata\\': {},\\n   \\'source\\': [\\'# Begin to assemble components\\\\n\\',\\n    \\'\\\\n\\',\\n    \\'## rect \\\\n\\',\\n    \\'\\\\n\\',\\n    \\'From https://developer.mozilla.org/en-US/docs/Web/SVG/Element/rect\\\\n\\',\\n    \\'```svg\\\\n\\',\\n    \\'<svg viewBox=\"0 0 220 100\" xmlns=\"http://www.w3.org/2000/svg\">\\\\n\\',\\n    \\'  <!-- Simple rectangle -->\\\\n\\',\\n    \\'  <rect width=\"100\" height=\"100\" />\\\\n\\',\\n    \\'\\\\n\\',\\n    \\'  <!-- Rounded corner rectangle -->\\\\n\\',\\n    \\'  <rect x=\"120\" width=\"100\" height=\"100\" rx=\"15\" />\\\\n\\',\\n    \\'</svg>\\\\n\\',\\n    \\'```\\\\n\\']},\\n  {\\'cell_type\\': \\'code\\',\\n   \\'execution_count\\': 2,\\n   \\'metadata\\': {\\'inputHidden\\': False, \\'outputHidden\\': False},\\n   \\'outputs\\': [{\\'data\\': {\\'application/vdom.v1+json\\': {\\'attributes\\': {},\\n       \\'children\\': [],\\n       \\'tagName\\': \\'rect\\'},\\n      \\'text/html\\': [\\'<rect></rect>\\'],\\n      \\'text/plain\\': [\\'<rect></rect>\\']},\\n     \\'execution_count\\': 2,\\n     \\'metadata\\': {},\\n     \\'output_type\\': \\'execute_result\\'}],\\n   \\'source\\': [\\'# rect()\\']},\\n  {\\'cell_type\\': \\'code\\',\\n   \\'execution_count\\': None,\\n   \\'metadata\\': {},\\n   \\'outputs\\': [],\\n   \\'source\\': []}],\\n \\'metadata\\': {\\'kernelspec\\': {\\'display_name\\': \\'dev\\',\\n   \\'language\\': \\'python\\',\\n   \\'name\\': \\'dev\\'},\\n  \\'language_info\\': {\\'codemirror_mode\\': {\\'name\\': \\'ipython\\', \\'version\\': 3},\\n   \\'file_extension\\': \\'.py\\',\\n   \\'mimetype\\': \\'text/x-python\\',\\n   \\'name\\': \\'python\\',\\n   \\'nbconvert_exporter\\': \\'python\\',\\n   \\'pygments_lexer\\': \\'ipython3\\',\\n   \\'version\\': \\'3.6.8\\'},\\n  \\'nteract\\': {\\'version\\': \\'nteract-on-jupyter@2.0.13\\'},\\n  \\'title\\': \\'Assembling components of a design language for Jupyter notebooks\\'},\\n \\'nbformat\\': 4,\\n \\'nbformat_minor\\': 2}'}}],\n",
       "   'source': \"with io.open(nb_name, 'r', encoding='utf-8') as f:\\n    blah = json.load(f)\\n    display(blah)\"},\n",
       "  {'cell_type': 'markdown',\n",
       "   'metadata': {'tags': [],\n",
       "    'papermill': {'exception': False,\n",
       "     'start_time': '2019-05-05T09:39:10.558177',\n",
       "     'end_time': '2019-05-05T09:39:10.562324',\n",
       "     'duration': 0.004147,\n",
       "     'status': 'completed'}},\n",
       "   'source': 'It would be useful to have a way to modify the text of a notebook to have a particular title metadata attribute. \\n\\nAs defined implicitly in https://github.com/nteract/nteract/pull/4122/files#diff-b9859e6bbffca812f04afcbb907ef603R74:\\n```\\n       .setIn(\\n          [\\n            overwriteMetadataFieldsAction.payload.contentRef,\\n            \"model\",\\n            \"notebook\",\\n            \"metadata\",\\n            \"title\"\\n          ],\\n          title\\n        );\\n```\\n'},\n",
       "  {'cell_type': 'code',\n",
       "   'execution_count': 5,\n",
       "   'metadata': {'tags': [],\n",
       "    'papermill': {'exception': False,\n",
       "     'start_time': '2019-05-05T09:39:10.566473',\n",
       "     'end_time': '2019-05-05T09:39:10.713270',\n",
       "     'duration': 0.146797,\n",
       "     'status': 'completed'}},\n",
       "   'outputs': [],\n",
       "   'source': \"import nbformat\\nnb = nbformat.read(nb_name, as_version=4)\\nnb.metadata['title']= title\"},\n",
       "  {'cell_type': 'code',\n",
       "   'execution_count': 6,\n",
       "   'metadata': {'tags': [],\n",
       "    'papermill': {'exception': False,\n",
       "     'start_time': '2019-05-05T09:39:10.718750',\n",
       "     'end_time': '2019-05-05T09:39:10.732391',\n",
       "     'duration': 0.013641,\n",
       "     'status': 'completed'}},\n",
       "   'outputs': [],\n",
       "   'source': 'nbformat.write(nb, nb_name)'},\n",
       "  {'cell_type': 'code',\n",
       "   'execution_count': 7,\n",
       "   'metadata': {'tags': [],\n",
       "    'papermill': {'exception': False,\n",
       "     'start_time': '2019-05-05T09:39:10.736625',\n",
       "     'end_time': '2019-05-05T09:39:10.748850',\n",
       "     'duration': 0.012225,\n",
       "     'status': 'completed'}},\n",
       "   'outputs': [{'output_type': 'display_data',\n",
       "     'metadata': {},\n",
       "     'data': {'text/plain': '{\\'cells\\': [{\\'cell_type\\': \\'code\\',\\n   \\'execution_count\\': 1,\\n   \\'metadata\\': {},\\n   \\'outputs\\': [],\\n   \\'source\\': [\\'from vdom.svg import *\\\\n\\', \\'\\\\n\\']},\\n  {\\'cell_type\\': \\'markdown\\',\\n   \\'metadata\\': {},\\n   \\'source\\': [\\'# Begin to assemble components\\\\n\\',\\n    \\'\\\\n\\',\\n    \\'## rect \\\\n\\',\\n    \\'\\\\n\\',\\n    \\'From https://developer.mozilla.org/en-US/docs/Web/SVG/Element/rect\\\\n\\',\\n    \\'```svg\\\\n\\',\\n    \\'<svg viewBox=\"0 0 220 100\" xmlns=\"http://www.w3.org/2000/svg\">\\\\n\\',\\n    \\'  <!-- Simple rectangle -->\\\\n\\',\\n    \\'  <rect width=\"100\" height=\"100\" />\\\\n\\',\\n    \\'\\\\n\\',\\n    \\'  <!-- Rounded corner rectangle -->\\\\n\\',\\n    \\'  <rect x=\"120\" width=\"100\" height=\"100\" rx=\"15\" />\\\\n\\',\\n    \\'</svg>\\\\n\\',\\n    \\'```\\\\n\\']},\\n  {\\'cell_type\\': \\'code\\',\\n   \\'execution_count\\': 2,\\n   \\'metadata\\': {\\'inputHidden\\': False, \\'outputHidden\\': False},\\n   \\'outputs\\': [{\\'data\\': {\\'application/vdom.v1+json\\': {\\'attributes\\': {},\\n       \\'children\\': [],\\n       \\'tagName\\': \\'rect\\'},\\n      \\'text/html\\': [\\'<rect></rect>\\'],\\n      \\'text/plain\\': [\\'<rect></rect>\\']},\\n     \\'execution_count\\': 2,\\n     \\'metadata\\': {},\\n     \\'output_type\\': \\'execute_result\\'}],\\n   \\'source\\': [\\'# rect()\\']},\\n  {\\'cell_type\\': \\'code\\',\\n   \\'execution_count\\': None,\\n   \\'metadata\\': {},\\n   \\'outputs\\': [],\\n   \\'source\\': []}],\\n \\'metadata\\': {\\'kernelspec\\': {\\'display_name\\': \\'dev\\',\\n   \\'language\\': \\'python\\',\\n   \\'name\\': \\'dev\\'},\\n  \\'language_info\\': {\\'codemirror_mode\\': {\\'name\\': \\'ipython\\', \\'version\\': 3},\\n   \\'file_extension\\': \\'.py\\',\\n   \\'mimetype\\': \\'text/x-python\\',\\n   \\'name\\': \\'python\\',\\n   \\'nbconvert_exporter\\': \\'python\\',\\n   \\'pygments_lexer\\': \\'ipython3\\',\\n   \\'version\\': \\'3.6.8\\'},\\n  \\'nteract\\': {\\'version\\': \\'nteract-on-jupyter@2.0.13\\'},\\n  \\'title\\': \\'Reaching across notebooks is possible, if done responsibly.\\'},\\n \\'nbformat\\': 4,\\n \\'nbformat_minor\\': 2}'}}],\n",
       "   'source': \"with io.open(nb_name, 'r', encoding='utf-8') as f:\\n    blah = json.load(f)\\n    display(blah)\"}],\n",
       " 'metadata': {'celltoolbar': 'Tags',\n",
       "  'kernelspec': {'display_name': 'dev', 'language': 'python', 'name': 'dev'},\n",
       "  'language_info': {'name': 'python',\n",
       "   'version': '3.6.8',\n",
       "   'mimetype': 'text/x-python',\n",
       "   'codemirror_mode': {'name': 'ipython', 'version': 3},\n",
       "   'pygments_lexer': 'ipython3',\n",
       "   'nbconvert_exporter': 'python',\n",
       "   'file_extension': '.py'},\n",
       "  'papermill': {'parameters': {'nb_name': 'Assembling Components.ipynb',\n",
       "    'title': 'Reaching across notebooks is possible, if done responsibly.'},\n",
       "   'environment_variables': {},\n",
       "   'version': '0.19.0',\n",
       "   'input_path': \"Parameterizing Modify a notebook's metadata.ipynb\",\n",
       "   'output_path': \"Parameterizing Modify a notebook's metadata.ipynb\",\n",
       "   'start_time': '2019-05-05T09:39:09.692219',\n",
       "   'end_time': '2019-05-05T09:39:12.040775',\n",
       "   'duration': 2.348556,\n",
       "   'exception': None}},\n",
       " 'nbformat': 4,\n",
       " 'nbformat_minor': 2}"
      ]
     },
     "execution_count": 7,
     "metadata": {},
     "output_type": "execute_result"
    }
   ],
   "source": [
    "title_manipulator = \"Parameterizing Modify a notebook's metadata.ipynb\"\n",
    "nb_name = \"Assembling Components.ipynb\"\n",
    "title = \"Reaching across notebooks is possible, if done responsibly.\"\n",
    "\n",
    "papermill.execute_notebook(title_manipulator, title_manipulator,parameters = {\"nb_name\": nb_name, \"title\": title})"
   ]
  },
  {
   "cell_type": "code",
   "execution_count": null,
   "metadata": {},
   "outputs": [],
   "source": []
  }
 ],
 "metadata": {
  "kernelspec": {
   "display_name": "dev",
   "language": "python",
   "name": "dev"
  },
  "language_info": {
   "codemirror_mode": {
    "name": "ipython",
    "version": 3
   },
   "file_extension": ".py",
   "mimetype": "text/x-python",
   "name": "python",
   "nbconvert_exporter": "python",
   "pygments_lexer": "ipython3",
   "version": "3.6.8"
  }
 },
 "nbformat": 4,
 "nbformat_minor": 2
}
