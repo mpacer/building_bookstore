{
 "cells": [
  {
   "cell_type": "code",
   "execution_count": 6,
   "metadata": {},
   "outputs": [],
   "source": [
    "import papermill"
   ]
  },
  {
   "cell_type": "code",
   "execution_count": null,
   "metadata": {},
   "outputs": [],
   "source": [
    "title_manipulator = \"Parameterizing Modify a notebook's metadata.ipynb\""
   ]
  },
  {
   "cell_type": "code",
   "execution_count": 8,
   "metadata": {},
   "outputs": [
    {
     "data": {
      "application/vnd.jupyter.widget-view+json": {
       "model_id": "cf7f27d847764a3d83cf77590f66bfdd",
       "version_major": 2,
       "version_minor": 0
      },
      "text/plain": [
       "HBox(children=(IntProgress(value=0, max=8), HTML(value='')))"
      ]
     },
     "metadata": {},
     "output_type": "display_data"
    },
    {
     "name": "stdout",
     "output_type": "stream",
     "text": [
      "\n"
     ]
    },
    {
     "data": {
      "text/plain": [
       "{'cells': [{'cell_type': 'code',\n",
       "   'execution_count': 1,\n",
       "   'metadata': {'tags': [],\n",
       "    'papermill': {'exception': False,\n",
       "     'start_time': '2019-05-05T10:03:53.065947',\n",
       "     'end_time': '2019-05-05T10:03:53.077161',\n",
       "     'duration': 0.011214,\n",
       "     'status': 'completed'}},\n",
       "   'outputs': [],\n",
       "   'source': 'import json\\nimport io'},\n",
       "  {'cell_type': 'code',\n",
       "   'execution_count': 2,\n",
       "   'metadata': {'tags': ['parameters'],\n",
       "    'papermill': {'exception': False,\n",
       "     'start_time': '2019-05-05T10:03:53.083189',\n",
       "     'end_time': '2019-05-05T10:03:53.093435',\n",
       "     'duration': 0.010246,\n",
       "     'status': 'completed'}},\n",
       "   'outputs': [],\n",
       "   'source': 'nb_name = \"Assembling components.ipynb\"\\ntitle = \"Assembling components of a design language for Jupyter notebooks\"'},\n",
       "  {'cell_type': 'code',\n",
       "   'metadata': {'tags': ['injected-parameters'],\n",
       "    'papermill': {'exception': False,\n",
       "     'start_time': '2019-05-05T10:03:53.097434',\n",
       "     'end_time': '2019-05-05T10:03:53.107060',\n",
       "     'duration': 0.009626,\n",
       "     'status': 'completed'}},\n",
       "   'execution_count': 3,\n",
       "   'source': '# Parameters\\nnb_name = \"Combining components - first pass.ipynb\"\\ntitle = \"Building a bookstore: one bookshelf at a time\"\\n',\n",
       "   'outputs': []},\n",
       "  {'cell_type': 'code',\n",
       "   'execution_count': 4,\n",
       "   'metadata': {'tags': [],\n",
       "    'papermill': {'exception': False,\n",
       "     'start_time': '2019-05-05T10:03:53.110957',\n",
       "     'end_time': '2019-05-05T10:03:53.128907',\n",
       "     'duration': 0.01795,\n",
       "     'status': 'completed'}},\n",
       "   'outputs': [{'output_type': 'display_data',\n",
       "     'metadata': {},\n",
       "     'data': {'text/plain': '{\\'cells\\': [{\\'cell_type\\': \\'code\\',\\n   \\'execution_count\\': 13,\\n   \\'metadata\\': {},\\n   \\'outputs\\': [],\\n   \\'source\\': [\\'from vdom.svg import *\\\\n\\', \\'import functools\\']},\\n  {\\'cell_type\\': \\'markdown\\',\\n   \\'metadata\\': {},\\n   \\'source\\': [\\'# Begin to assemble components\\\\n\\',\\n    \\'\\\\n\\',\\n    \\'From https://developer.mozilla.org/en-US/docs/Web/SVG/Element/rect\\\\n\\',\\n    \\'```svg\\\\n\\',\\n    \\'<svg viewBox=\"0 0 220 100\" xmlns=\"http://www.w3.org/2000/svg\">\\\\n\\',\\n    \\'  <!-- Simple rectangle -->\\\\n\\',\\n    \\'  <rect width=\"100\" height=\"100\" />\\\\n\\',\\n    \\'\\\\n\\',\\n    \\'  <!-- Rounded corner rectangle -->\\\\n\\',\\n    \\'  <rect x=\"120\" width=\"100\" height=\"100\" rx=\"15\" />\\\\n\\',\\n    \\'</svg>\\\\n\\',\\n    \\'```\\']},\\n  {\\'cell_type\\': \\'markdown\\',\\n   \\'metadata\\': {},\\n   \\'source\\': [\\'## base_svg\\\\n\\',\\n    \\'\\\\n\\',\\n    \"We need to add viewbox in all these cases, so let\\'s create a base_svg class. \"]},\\n  {\\'cell_type\\': \\'code\\',\\n   \\'execution_count\\': None,\\n   \\'metadata\\': {},\\n   \\'outputs\\': [],\\n   \\'source\\': [\\'base_svg = functools.partial(svg, viewBox=\"0 0 220 100\")\\']},\\n  {\\'cell_type\\': \\'markdown\\',\\n   \\'metadata\\': {},\\n   \\'source\\': [\\'## rect \\\\n\\',\\n    \\'\\\\n\\',\\n    \"We\\'ll need to have rectangles even in the simplest case. \\\\n\",\\n    \\'\\\\n\\',\\n    \\'need to vary: \\\\n\\',\\n    \\'  - x\\\\n\\',\\n    \\'  - y\\\\n\\',\\n    \\'  - width\\\\n\\',\\n    \\'  - height\\']},\\n  {\\'cell_type\\': \\'code\\',\\n   \\'execution_count\\': 23,\\n   \\'metadata\\': {\\'inputHidden\\': False, \\'outputHidden\\': False, \\'scrolled\\': True},\\n   \\'outputs\\': [{\\'data\\': {\\'application/vdom.v1+json\\': {\\'attributes\\': {\\'viewBox\\': \\'0 0 220 100\\'},\\n       \\'children\\': [{\\'attributes\\': {\\'height\\': \\'30\\',\\n          \\'width\\': \\'20\\',\\n          \\'x\\': \\'20\\',\\n          \\'y\\': \\'50\\'},\\n         \\'children\\': [],\\n         \\'tagName\\': \\'rect\\'}],\\n       \\'tagName\\': \\'svg\\'},\\n      \\'text/html\\': [\\'<svg viewBox=\"0 0 220 100\"><rect height=\"30\" width=\"20\" x=\"20\" y=\"50\"></rect></svg>\\'],\\n      \\'text/plain\\': [\\'<svg viewBox=\"0 0 220 100\"><rect height=\"30\" width=\"20\" x=\"20\" y=\"50\"></rect></svg>\\']},\\n     \\'execution_count\\': 23,\\n     \\'metadata\\': {},\\n     \\'output_type\\': \\'execute_result\\'}],\\n   \\'source\\': [\\'\\\\n\\',\\n    \\'\\\\n\\',\\n    \\'base_svg(\\\\n\\',\\n    \\'    rect(x=\"20\",\\\\n\\',\\n    \\'         y=\"50\",\\\\n\\',\\n    \\'         width=\"20\", \\\\n\\',\\n    \\'         height=\"30\", ),\\\\n\\',\\n    \\'    )\\']},\\n  {\\'cell_type\\': \\'markdown\\',\\n   \\'metadata\\': {},\\n   \\'source\\': [\\'First we make the shape of a book. \\\\n\\',\\n    \\'\\\\n\\',\\n    \\'Then, the shelf.\\']},\\n  {\\'cell_type\\': \\'code\\',\\n   \\'execution_count\\': 31,\\n   \\'metadata\\': {},\\n   \\'outputs\\': [{\\'data\\': {\\'application/vdom.v1+json\\': {\\'attributes\\': {\\'viewBox\\': \\'0 0 220 100\\'},\\n       \\'children\\': [{\\'attributes\\': {\\'fill\\': \\'brown\\',\\n          \\'height\\': \\'5\\',\\n          \\'width\\': \\'150\\',\\n          \\'x\\': \\'20\\',\\n          \\'y\\': \\'75\\'},\\n         \\'children\\': [],\\n         \\'tagName\\': \\'rect\\'}],\\n       \\'tagName\\': \\'svg\\'},\\n      \\'text/html\\': [\\'<svg viewBox=\"0 0 220 100\"><rect fill=\"brown\" height=\"5\" width=\"150\" x=\"20\" y=\"75\"></rect></svg>\\'],\\n      \\'text/plain\\': [\\'<svg viewBox=\"0 0 220 100\"><rect fill=\"brown\" height=\"5\" width=\"150\" x=\"20\" y=\"75\"></rect></svg>\\']},\\n     \\'execution_count\\': 31,\\n     \\'metadata\\': {},\\n     \\'output_type\\': \\'execute_result\\'}],\\n   \\'source\\': [\\'base_svg(\\\\n\\',\\n    \\'    rect(x=\"20\",\\\\n\\',\\n    \\'         y=\"75\",\\\\n\\',\\n    \\'         width=\"150\", \\\\n\\',\\n    \\'         height=\"5\", \\\\n\\',\\n    \\'         fill=\"brown\"),\\\\n\\',\\n    \\'    )\\']},\\n  {\\'cell_type\\': \\'markdown\\', \\'metadata\\': {}, \\'source\\': [\\'Combined:\\']},\\n  {\\'cell_type\\': \\'code\\',\\n   \\'execution_count\\': 34,\\n   \\'metadata\\': {},\\n   \\'outputs\\': [{\\'data\\': {\\'application/vdom.v1+json\\': {\\'attributes\\': {\\'viewBox\\': \\'0 0 220 100\\'},\\n       \\'children\\': [{\\'attributes\\': {\\'height\\': \\'30\\',\\n          \\'width\\': \\'20\\',\\n          \\'x\\': \\'20\\',\\n          \\'y\\': \\'50\\'},\\n         \\'children\\': [],\\n         \\'tagName\\': \\'rect\\'},\\n        {\\'attributes\\': {\\'fill\\': \\'brown\\',\\n          \\'height\\': \\'5\\',\\n          \\'width\\': \\'150\\',\\n          \\'x\\': \\'20\\',\\n          \\'y\\': \\'75\\'},\\n         \\'children\\': [],\\n         \\'tagName\\': \\'rect\\'}],\\n       \\'tagName\\': \\'svg\\'},\\n      \\'text/html\\': [\\'<svg viewBox=\"0 0 220 100\"><rect height=\"30\" width=\"20\" x=\"20\" y=\"50\"></rect><rect fill=\"brown\" height=\"5\" width=\"150\" x=\"20\" y=\"75\"></rect></svg>\\'],\\n      \\'text/plain\\': [\\'<svg viewBox=\"0 0 220 100\"><rect height=\"30\" width=\"20\" x=\"20\" y=\"50\"></rect><rect fill=\"brown\" height=\"5\" width=\"150\" x=\"20\" y=\"75\"></rect></svg>\\']},\\n     \\'execution_count\\': 34,\\n     \\'metadata\\': {},\\n     \\'output_type\\': \\'execute_result\\'}],\\n   \\'source\\': [\\'base_svg(\\\\n\\',\\n    \\'    rect(x=\"20\",\\\\n\\',\\n    \\'         y=\"50\",\\\\n\\',\\n    \\'         width=\"20\", \\\\n\\',\\n    \\'         height=\"30\", ),\\\\n\\',\\n    \\'\\\\n\\',\\n    \\'    rect(x=\"20\",\\\\n\\',\\n    \\'         y=\"75\",\\\\n\\',\\n    \\'         width=\"150\", \\\\n\\',\\n    \\'         height=\"5\", \\\\n\\',\\n    \\'         fill=\"brown\"),\\\\n\\',\\n    \\'    )\\']},\\n  {\\'cell_type\\': \\'markdown\\',\\n   \\'metadata\\': {},\\n   \\'source\\': [\\'## Multiple notebooks need to be spaced out\\']},\\n  {\\'cell_type\\': \\'code\\',\\n   \\'execution_count\\': 41,\\n   \\'metadata\\': {\\'scrolled\\': True},\\n   \\'outputs\\': [{\\'data\\': {\\'application/vdom.v1+json\\': {\\'attributes\\': {\\'viewBox\\': \\'0 0 220 100\\'},\\n       \\'children\\': [{\\'attributes\\': {\\'height\\': \\'30\\',\\n          \\'width\\': \\'20\\',\\n          \\'x\\': \\'20\\',\\n          \\'y\\': \\'50\\'},\\n         \\'children\\': [],\\n         \\'tagName\\': \\'rect\\'},\\n        {\\'attributes\\': {\\'height\\': \\'30\\', \\'width\\': \\'20\\', \\'x\\': \\'45\\', \\'y\\': \\'50\\'},\\n         \\'children\\': [],\\n         \\'tagName\\': \\'rect\\'},\\n        {\\'attributes\\': {\\'height\\': \\'30\\', \\'width\\': \\'20\\', \\'x\\': \\'70\\', \\'y\\': \\'50\\'},\\n         \\'children\\': [],\\n         \\'tagName\\': \\'rect\\'},\\n        {\\'attributes\\': {\\'height\\': \\'30\\', \\'width\\': \\'20\\', \\'x\\': \\'95\\', \\'y\\': \\'50\\'},\\n         \\'children\\': [],\\n         \\'tagName\\': \\'rect\\'},\\n        {\\'attributes\\': {\\'height\\': \\'30\\', \\'width\\': \\'20\\', \\'x\\': \\'120\\', \\'y\\': \\'50\\'},\\n         \\'children\\': [],\\n         \\'tagName\\': \\'rect\\'},\\n        {\\'attributes\\': {\\'height\\': \\'30\\', \\'width\\': \\'20\\', \\'x\\': \\'145\\', \\'y\\': \\'50\\'},\\n         \\'children\\': [],\\n         \\'tagName\\': \\'rect\\'},\\n        {\\'attributes\\': {\\'fill\\': \\'brown\\',\\n          \\'height\\': \\'5\\',\\n          \\'width\\': \\'155\\',\\n          \\'x\\': \\'15\\',\\n          \\'y\\': \\'75\\'},\\n         \\'children\\': [],\\n         \\'tagName\\': \\'rect\\'}],\\n       \\'tagName\\': \\'svg\\'},\\n      \\'text/html\\': [\\'<svg viewBox=\"0 0 220 100\"><rect height=\"30\" width=\"20\" x=\"20\" y=\"50\"></rect><rect height=\"30\" width=\"20\" x=\"45\" y=\"50\"></rect><rect height=\"30\" width=\"20\" x=\"70\" y=\"50\"></rect><rect height=\"30\" width=\"20\" x=\"95\" y=\"50\"></rect><rect height=\"30\" width=\"20\" x=\"120\" y=\"50\"></rect><rect height=\"30\" width=\"20\" x=\"145\" y=\"50\"></rect><rect fill=\"brown\" height=\"5\" width=\"155\" x=\"15\" y=\"75\"></rect></svg>\\'],\\n      \\'text/plain\\': [\\'<svg viewBox=\"0 0 220 100\"><rect height=\"30\" width=\"20\" x=\"20\" y=\"50\"></rect><rect height=\"30\" width=\"20\" x=\"45\" y=\"50\"></rect><rect height=\"30\" width=\"20\" x=\"70\" y=\"50\"></rect><rect height=\"30\" width=\"20\" x=\"95\" y=\"50\"></rect><rect height=\"30\" width=\"20\" x=\"120\" y=\"50\"></rect><rect height=\"30\" width=\"20\" x=\"145\" y=\"50\"></rect><rect fill=\"brown\" height=\"5\" width=\"155\" x=\"15\" y=\"75\"></rect></svg>\\']},\\n     \\'execution_count\\': 41,\\n     \\'metadata\\': {},\\n     \\'output_type\\': \\'execute_result\\'}],\\n   \\'source\\': [\\'base_svg(\\\\n\\',\\n    \\'    *(rect(x=f\"{20+x*25}\",\\\\n\\',\\n    \\'         y=\"50\",\\\\n\\',\\n    \\'         width=\"20\", \\\\n\\',\\n    \\'         height=\"30\", ) for x in range(6)),\\\\n\\',\\n    \\'\\\\n\\',\\n    \\'    rect(x=\"15\",\\\\n\\',\\n    \\'         y=\"75\",\\\\n\\',\\n    \\'         width=\"155\", \\\\n\\',\\n    \\'         height=\"5\", \\\\n\\',\\n    \\'         fill=\"brown\"),\\\\n\\',\\n    \\'    )\\']},\\n  {\\'cell_type\\': \\'code\\',\\n   \\'execution_count\\': None,\\n   \\'metadata\\': {},\\n   \\'outputs\\': [],\\n   \\'source\\': []}],\\n \\'metadata\\': {\\'kernelspec\\': {\\'display_name\\': \\'dev\\',\\n   \\'language\\': \\'python\\',\\n   \\'name\\': \\'dev\\'},\\n  \\'language_info\\': {\\'codemirror_mode\\': {\\'name\\': \\'ipython\\', \\'version\\': 3},\\n   \\'file_extension\\': \\'.py\\',\\n   \\'mimetype\\': \\'text/x-python\\',\\n   \\'name\\': \\'python\\',\\n   \\'nbconvert_exporter\\': \\'python\\',\\n   \\'pygments_lexer\\': \\'ipython3\\',\\n   \\'version\\': \\'3.6.8\\'},\\n  \\'nteract\\': {\\'version\\': \\'nteract-on-jupyter@2.0.13\\'},\\n  \\'title\\': \\'Reaching across notebooks is possible, if done responsibly.\\'},\\n \\'nbformat\\': 4,\\n \\'nbformat_minor\\': 2}'}}],\n",
       "   'source': \"with io.open(nb_name, 'r', encoding='utf-8') as f:\\n    blah = json.load(f)\\n    display(blah)\"},\n",
       "  {'cell_type': 'markdown',\n",
       "   'metadata': {'tags': [],\n",
       "    'papermill': {'exception': False,\n",
       "     'start_time': '2019-05-05T10:03:53.133629',\n",
       "     'end_time': '2019-05-05T10:03:53.138208',\n",
       "     'duration': 0.004579,\n",
       "     'status': 'completed'}},\n",
       "   'source': 'It would be useful to have a way to modify the text of a notebook to have a particular title metadata attribute. \\n\\nAs defined implicitly in https://github.com/nteract/nteract/pull/4122/files#diff-b9859e6bbffca812f04afcbb907ef603R74:\\n```\\n       .setIn(\\n          [\\n            overwriteMetadataFieldsAction.payload.contentRef,\\n            \"model\",\\n            \"notebook\",\\n            \"metadata\",\\n            \"title\"\\n          ],\\n          title\\n        );\\n```\\n'},\n",
       "  {'cell_type': 'code',\n",
       "   'execution_count': 5,\n",
       "   'metadata': {'tags': [],\n",
       "    'papermill': {'exception': False,\n",
       "     'start_time': '2019-05-05T10:03:53.142485',\n",
       "     'end_time': '2019-05-05T10:03:53.429170',\n",
       "     'duration': 0.286685,\n",
       "     'status': 'completed'}},\n",
       "   'outputs': [],\n",
       "   'source': \"import nbformat\\nnb = nbformat.read(nb_name, as_version=4)\\nnb.metadata['title']= title\"},\n",
       "  {'cell_type': 'code',\n",
       "   'execution_count': 6,\n",
       "   'metadata': {'tags': [],\n",
       "    'papermill': {'exception': False,\n",
       "     'start_time': '2019-05-05T10:03:53.434626',\n",
       "     'end_time': '2019-05-05T10:03:53.452827',\n",
       "     'duration': 0.018201,\n",
       "     'status': 'completed'}},\n",
       "   'outputs': [],\n",
       "   'source': 'nbformat.write(nb, nb_name)'},\n",
       "  {'cell_type': 'code',\n",
       "   'execution_count': 7,\n",
       "   'metadata': {'tags': [],\n",
       "    'papermill': {'exception': False,\n",
       "     'start_time': '2019-05-05T10:03:53.457619',\n",
       "     'end_time': '2019-05-05T10:03:53.474370',\n",
       "     'duration': 0.016751,\n",
       "     'status': 'completed'}},\n",
       "   'outputs': [{'output_type': 'display_data',\n",
       "     'metadata': {},\n",
       "     'data': {'text/plain': '{\\'cells\\': [{\\'cell_type\\': \\'code\\',\\n   \\'execution_count\\': 13,\\n   \\'metadata\\': {},\\n   \\'outputs\\': [],\\n   \\'source\\': [\\'from vdom.svg import *\\\\n\\', \\'import functools\\']},\\n  {\\'cell_type\\': \\'markdown\\',\\n   \\'metadata\\': {},\\n   \\'source\\': [\\'# Begin to assemble components\\\\n\\',\\n    \\'\\\\n\\',\\n    \\'From https://developer.mozilla.org/en-US/docs/Web/SVG/Element/rect\\\\n\\',\\n    \\'```svg\\\\n\\',\\n    \\'<svg viewBox=\"0 0 220 100\" xmlns=\"http://www.w3.org/2000/svg\">\\\\n\\',\\n    \\'  <!-- Simple rectangle -->\\\\n\\',\\n    \\'  <rect width=\"100\" height=\"100\" />\\\\n\\',\\n    \\'\\\\n\\',\\n    \\'  <!-- Rounded corner rectangle -->\\\\n\\',\\n    \\'  <rect x=\"120\" width=\"100\" height=\"100\" rx=\"15\" />\\\\n\\',\\n    \\'</svg>\\\\n\\',\\n    \\'```\\']},\\n  {\\'cell_type\\': \\'markdown\\',\\n   \\'metadata\\': {},\\n   \\'source\\': [\\'## base_svg\\\\n\\',\\n    \\'\\\\n\\',\\n    \"We need to add viewbox in all these cases, so let\\'s create a base_svg class. \"]},\\n  {\\'cell_type\\': \\'code\\',\\n   \\'execution_count\\': None,\\n   \\'metadata\\': {},\\n   \\'outputs\\': [],\\n   \\'source\\': [\\'base_svg = functools.partial(svg, viewBox=\"0 0 220 100\")\\']},\\n  {\\'cell_type\\': \\'markdown\\',\\n   \\'metadata\\': {},\\n   \\'source\\': [\\'## rect \\\\n\\',\\n    \\'\\\\n\\',\\n    \"We\\'ll need to have rectangles even in the simplest case. \\\\n\",\\n    \\'\\\\n\\',\\n    \\'need to vary: \\\\n\\',\\n    \\'  - x\\\\n\\',\\n    \\'  - y\\\\n\\',\\n    \\'  - width\\\\n\\',\\n    \\'  - height\\']},\\n  {\\'cell_type\\': \\'code\\',\\n   \\'execution_count\\': 23,\\n   \\'metadata\\': {\\'inputHidden\\': False, \\'outputHidden\\': False, \\'scrolled\\': True},\\n   \\'outputs\\': [{\\'data\\': {\\'application/vdom.v1+json\\': {\\'attributes\\': {\\'viewBox\\': \\'0 0 220 100\\'},\\n       \\'children\\': [{\\'attributes\\': {\\'height\\': \\'30\\',\\n          \\'width\\': \\'20\\',\\n          \\'x\\': \\'20\\',\\n          \\'y\\': \\'50\\'},\\n         \\'children\\': [],\\n         \\'tagName\\': \\'rect\\'}],\\n       \\'tagName\\': \\'svg\\'},\\n      \\'text/html\\': [\\'<svg viewBox=\"0 0 220 100\"><rect height=\"30\" width=\"20\" x=\"20\" y=\"50\"></rect></svg>\\'],\\n      \\'text/plain\\': [\\'<svg viewBox=\"0 0 220 100\"><rect height=\"30\" width=\"20\" x=\"20\" y=\"50\"></rect></svg>\\']},\\n     \\'execution_count\\': 23,\\n     \\'metadata\\': {},\\n     \\'output_type\\': \\'execute_result\\'}],\\n   \\'source\\': [\\'\\\\n\\',\\n    \\'\\\\n\\',\\n    \\'base_svg(\\\\n\\',\\n    \\'    rect(x=\"20\",\\\\n\\',\\n    \\'         y=\"50\",\\\\n\\',\\n    \\'         width=\"20\", \\\\n\\',\\n    \\'         height=\"30\", ),\\\\n\\',\\n    \\'    )\\']},\\n  {\\'cell_type\\': \\'markdown\\',\\n   \\'metadata\\': {},\\n   \\'source\\': [\\'First we make the shape of a book. \\\\n\\',\\n    \\'\\\\n\\',\\n    \\'Then, the shelf.\\']},\\n  {\\'cell_type\\': \\'code\\',\\n   \\'execution_count\\': 31,\\n   \\'metadata\\': {},\\n   \\'outputs\\': [{\\'data\\': {\\'application/vdom.v1+json\\': {\\'attributes\\': {\\'viewBox\\': \\'0 0 220 100\\'},\\n       \\'children\\': [{\\'attributes\\': {\\'fill\\': \\'brown\\',\\n          \\'height\\': \\'5\\',\\n          \\'width\\': \\'150\\',\\n          \\'x\\': \\'20\\',\\n          \\'y\\': \\'75\\'},\\n         \\'children\\': [],\\n         \\'tagName\\': \\'rect\\'}],\\n       \\'tagName\\': \\'svg\\'},\\n      \\'text/html\\': [\\'<svg viewBox=\"0 0 220 100\"><rect fill=\"brown\" height=\"5\" width=\"150\" x=\"20\" y=\"75\"></rect></svg>\\'],\\n      \\'text/plain\\': [\\'<svg viewBox=\"0 0 220 100\"><rect fill=\"brown\" height=\"5\" width=\"150\" x=\"20\" y=\"75\"></rect></svg>\\']},\\n     \\'execution_count\\': 31,\\n     \\'metadata\\': {},\\n     \\'output_type\\': \\'execute_result\\'}],\\n   \\'source\\': [\\'base_svg(\\\\n\\',\\n    \\'    rect(x=\"20\",\\\\n\\',\\n    \\'         y=\"75\",\\\\n\\',\\n    \\'         width=\"150\", \\\\n\\',\\n    \\'         height=\"5\", \\\\n\\',\\n    \\'         fill=\"brown\"),\\\\n\\',\\n    \\'    )\\']},\\n  {\\'cell_type\\': \\'markdown\\', \\'metadata\\': {}, \\'source\\': [\\'Combined:\\']},\\n  {\\'cell_type\\': \\'code\\',\\n   \\'execution_count\\': 34,\\n   \\'metadata\\': {},\\n   \\'outputs\\': [{\\'data\\': {\\'application/vdom.v1+json\\': {\\'attributes\\': {\\'viewBox\\': \\'0 0 220 100\\'},\\n       \\'children\\': [{\\'attributes\\': {\\'height\\': \\'30\\',\\n          \\'width\\': \\'20\\',\\n          \\'x\\': \\'20\\',\\n          \\'y\\': \\'50\\'},\\n         \\'children\\': [],\\n         \\'tagName\\': \\'rect\\'},\\n        {\\'attributes\\': {\\'fill\\': \\'brown\\',\\n          \\'height\\': \\'5\\',\\n          \\'width\\': \\'150\\',\\n          \\'x\\': \\'20\\',\\n          \\'y\\': \\'75\\'},\\n         \\'children\\': [],\\n         \\'tagName\\': \\'rect\\'}],\\n       \\'tagName\\': \\'svg\\'},\\n      \\'text/html\\': [\\'<svg viewBox=\"0 0 220 100\"><rect height=\"30\" width=\"20\" x=\"20\" y=\"50\"></rect><rect fill=\"brown\" height=\"5\" width=\"150\" x=\"20\" y=\"75\"></rect></svg>\\'],\\n      \\'text/plain\\': [\\'<svg viewBox=\"0 0 220 100\"><rect height=\"30\" width=\"20\" x=\"20\" y=\"50\"></rect><rect fill=\"brown\" height=\"5\" width=\"150\" x=\"20\" y=\"75\"></rect></svg>\\']},\\n     \\'execution_count\\': 34,\\n     \\'metadata\\': {},\\n     \\'output_type\\': \\'execute_result\\'}],\\n   \\'source\\': [\\'base_svg(\\\\n\\',\\n    \\'    rect(x=\"20\",\\\\n\\',\\n    \\'         y=\"50\",\\\\n\\',\\n    \\'         width=\"20\", \\\\n\\',\\n    \\'         height=\"30\", ),\\\\n\\',\\n    \\'\\\\n\\',\\n    \\'    rect(x=\"20\",\\\\n\\',\\n    \\'         y=\"75\",\\\\n\\',\\n    \\'         width=\"150\", \\\\n\\',\\n    \\'         height=\"5\", \\\\n\\',\\n    \\'         fill=\"brown\"),\\\\n\\',\\n    \\'    )\\']},\\n  {\\'cell_type\\': \\'markdown\\',\\n   \\'metadata\\': {},\\n   \\'source\\': [\\'## Multiple notebooks need to be spaced out\\']},\\n  {\\'cell_type\\': \\'code\\',\\n   \\'execution_count\\': 41,\\n   \\'metadata\\': {\\'scrolled\\': True},\\n   \\'outputs\\': [{\\'data\\': {\\'application/vdom.v1+json\\': {\\'attributes\\': {\\'viewBox\\': \\'0 0 220 100\\'},\\n       \\'children\\': [{\\'attributes\\': {\\'height\\': \\'30\\',\\n          \\'width\\': \\'20\\',\\n          \\'x\\': \\'20\\',\\n          \\'y\\': \\'50\\'},\\n         \\'children\\': [],\\n         \\'tagName\\': \\'rect\\'},\\n        {\\'attributes\\': {\\'height\\': \\'30\\', \\'width\\': \\'20\\', \\'x\\': \\'45\\', \\'y\\': \\'50\\'},\\n         \\'children\\': [],\\n         \\'tagName\\': \\'rect\\'},\\n        {\\'attributes\\': {\\'height\\': \\'30\\', \\'width\\': \\'20\\', \\'x\\': \\'70\\', \\'y\\': \\'50\\'},\\n         \\'children\\': [],\\n         \\'tagName\\': \\'rect\\'},\\n        {\\'attributes\\': {\\'height\\': \\'30\\', \\'width\\': \\'20\\', \\'x\\': \\'95\\', \\'y\\': \\'50\\'},\\n         \\'children\\': [],\\n         \\'tagName\\': \\'rect\\'},\\n        {\\'attributes\\': {\\'height\\': \\'30\\', \\'width\\': \\'20\\', \\'x\\': \\'120\\', \\'y\\': \\'50\\'},\\n         \\'children\\': [],\\n         \\'tagName\\': \\'rect\\'},\\n        {\\'attributes\\': {\\'height\\': \\'30\\', \\'width\\': \\'20\\', \\'x\\': \\'145\\', \\'y\\': \\'50\\'},\\n         \\'children\\': [],\\n         \\'tagName\\': \\'rect\\'},\\n        {\\'attributes\\': {\\'fill\\': \\'brown\\',\\n          \\'height\\': \\'5\\',\\n          \\'width\\': \\'155\\',\\n          \\'x\\': \\'15\\',\\n          \\'y\\': \\'75\\'},\\n         \\'children\\': [],\\n         \\'tagName\\': \\'rect\\'}],\\n       \\'tagName\\': \\'svg\\'},\\n      \\'text/html\\': [\\'<svg viewBox=\"0 0 220 100\"><rect height=\"30\" width=\"20\" x=\"20\" y=\"50\"></rect><rect height=\"30\" width=\"20\" x=\"45\" y=\"50\"></rect><rect height=\"30\" width=\"20\" x=\"70\" y=\"50\"></rect><rect height=\"30\" width=\"20\" x=\"95\" y=\"50\"></rect><rect height=\"30\" width=\"20\" x=\"120\" y=\"50\"></rect><rect height=\"30\" width=\"20\" x=\"145\" y=\"50\"></rect><rect fill=\"brown\" height=\"5\" width=\"155\" x=\"15\" y=\"75\"></rect></svg>\\'],\\n      \\'text/plain\\': [\\'<svg viewBox=\"0 0 220 100\"><rect height=\"30\" width=\"20\" x=\"20\" y=\"50\"></rect><rect height=\"30\" width=\"20\" x=\"45\" y=\"50\"></rect><rect height=\"30\" width=\"20\" x=\"70\" y=\"50\"></rect><rect height=\"30\" width=\"20\" x=\"95\" y=\"50\"></rect><rect height=\"30\" width=\"20\" x=\"120\" y=\"50\"></rect><rect height=\"30\" width=\"20\" x=\"145\" y=\"50\"></rect><rect fill=\"brown\" height=\"5\" width=\"155\" x=\"15\" y=\"75\"></rect></svg>\\']},\\n     \\'execution_count\\': 41,\\n     \\'metadata\\': {},\\n     \\'output_type\\': \\'execute_result\\'}],\\n   \\'source\\': [\\'base_svg(\\\\n\\',\\n    \\'    *(rect(x=f\"{20+x*25}\",\\\\n\\',\\n    \\'         y=\"50\",\\\\n\\',\\n    \\'         width=\"20\", \\\\n\\',\\n    \\'         height=\"30\", ) for x in range(6)),\\\\n\\',\\n    \\'\\\\n\\',\\n    \\'    rect(x=\"15\",\\\\n\\',\\n    \\'         y=\"75\",\\\\n\\',\\n    \\'         width=\"155\", \\\\n\\',\\n    \\'         height=\"5\", \\\\n\\',\\n    \\'         fill=\"brown\"),\\\\n\\',\\n    \\'    )\\']},\\n  {\\'cell_type\\': \\'code\\',\\n   \\'execution_count\\': None,\\n   \\'metadata\\': {},\\n   \\'outputs\\': [],\\n   \\'source\\': []}],\\n \\'metadata\\': {\\'kernelspec\\': {\\'display_name\\': \\'dev\\',\\n   \\'language\\': \\'python\\',\\n   \\'name\\': \\'dev\\'},\\n  \\'language_info\\': {\\'codemirror_mode\\': {\\'name\\': \\'ipython\\', \\'version\\': 3},\\n   \\'file_extension\\': \\'.py\\',\\n   \\'mimetype\\': \\'text/x-python\\',\\n   \\'name\\': \\'python\\',\\n   \\'nbconvert_exporter\\': \\'python\\',\\n   \\'pygments_lexer\\': \\'ipython3\\',\\n   \\'version\\': \\'3.6.8\\'},\\n  \\'nteract\\': {\\'version\\': \\'nteract-on-jupyter@2.0.13\\'},\\n  \\'title\\': \\'Building a bookstore: one bookshelf at a time\\'},\\n \\'nbformat\\': 4,\\n \\'nbformat_minor\\': 2}'}}],\n",
       "   'source': \"with io.open(nb_name, 'r', encoding='utf-8') as f:\\n    blah = json.load(f)\\n    display(blah)\"}],\n",
       " 'metadata': {'celltoolbar': 'Tags',\n",
       "  'kernelspec': {'display_name': 'dev', 'language': 'python', 'name': 'dev'},\n",
       "  'language_info': {'name': 'python',\n",
       "   'version': '3.6.8',\n",
       "   'mimetype': 'text/x-python',\n",
       "   'codemirror_mode': {'name': 'ipython', 'version': 3},\n",
       "   'pygments_lexer': 'ipython3',\n",
       "   'nbconvert_exporter': 'python',\n",
       "   'file_extension': '.py'},\n",
       "  'papermill': {'parameters': {'nb_name': 'Combining components - first pass.ipynb',\n",
       "    'title': 'Building a bookstore: one bookshelf at a time'},\n",
       "   'environment_variables': {},\n",
       "   'version': '0.19.0',\n",
       "   'input_path': \"Parameterizing Modify a notebook's metadata.ipynb\",\n",
       "   'output_path': \"Parameterizing Modify a notebook's metadata.ipynb\",\n",
       "   'start_time': '2019-05-05T10:03:51.871975',\n",
       "   'end_time': '2019-05-05T10:03:54.218471',\n",
       "   'duration': 2.346496,\n",
       "   'exception': None}},\n",
       " 'nbformat': 4,\n",
       " 'nbformat_minor': 2}"
      ]
     },
     "execution_count": 8,
     "metadata": {},
     "output_type": "execute_result"
    }
   ],
   "source": [
    "nb_name = \"Combining components - first pass.ipynb\"\n",
    "title = \"Building a bookstore: one bookshelf at a time\"\n",
    "\n",
    "papermill.execute_notebook(title_manipulator, title_manipulator,parameters = {\"nb_name\": nb_name, \"title\": title})"
   ]
  },
  {
   "cell_type": "code",
   "execution_count": null,
   "metadata": {},
   "outputs": [],
   "source": []
  }
 ],
 "metadata": {
  "kernelspec": {
   "display_name": "dev",
   "language": "python",
   "name": "dev"
  },
  "language_info": {
   "codemirror_mode": {
    "name": "ipython",
    "version": 3
   },
   "file_extension": ".py",
   "mimetype": "text/x-python",
   "name": "python",
   "nbconvert_exporter": "python",
   "pygments_lexer": "ipython3",
   "version": "3.6.8"
  }
 },
 "nbformat": 4,
 "nbformat_minor": 2
}
