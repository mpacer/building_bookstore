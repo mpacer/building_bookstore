{
 "cells": [
  {
   "cell_type": "code",
   "execution_count": 13,
   "metadata": {},
   "outputs": [],
   "source": [
    "from vdom.svg import *\n",
    "import functools"
   ]
  },
  {
   "cell_type": "markdown",
   "metadata": {},
   "source": [
    "# Begin to assemble components\n",
    "\n",
    "From https://developer.mozilla.org/en-US/docs/Web/SVG/Element/rect\n",
    "```svg\n",
    "<svg viewBox=\"0 0 220 100\" xmlns=\"http://www.w3.org/2000/svg\">\n",
    "  <!-- Simple rectangle -->\n",
    "  <rect width=\"100\" height=\"100\" />\n",
    "\n",
    "  <!-- Rounded corner rectangle -->\n",
    "  <rect x=\"120\" width=\"100\" height=\"100\" rx=\"15\" />\n",
    "</svg>\n",
    "```"
   ]
  },
  {
   "cell_type": "markdown",
   "metadata": {},
   "source": [
    "## base_svg\n",
    "\n",
    "We need to add viewbox in all these cases, so let's create a base_svg class. "
   ]
  },
  {
   "cell_type": "code",
   "execution_count": null,
   "metadata": {},
   "outputs": [],
   "source": [
    "base_svg = functools.partial(svg, viewBox=\"0 0 220 100\")"
   ]
  },
  {
   "cell_type": "markdown",
   "metadata": {},
   "source": [
    "## rect \n",
    "\n",
    "We'll need to have rectangles even in the simplest case. \n",
    "\n",
    "need to vary: \n",
    "  - x\n",
    "  - y\n",
    "  - width\n",
    "  - height"
   ]
  },
  {
   "cell_type": "code",
   "execution_count": 23,
   "metadata": {
    "inputHidden": false,
    "outputHidden": false,
    "scrolled": true
   },
   "outputs": [
    {
     "data": {
      "application/vdom.v1+json": {
       "attributes": {
        "viewBox": "0 0 220 100"
       },
       "children": [
        {
         "attributes": {
          "height": "30",
          "width": "20",
          "x": "20",
          "y": "50"
         },
         "children": [],
         "tagName": "rect"
        }
       ],
       "tagName": "svg"
      },
      "text/html": [
       "<svg viewBox=\"0 0 220 100\"><rect height=\"30\" width=\"20\" x=\"20\" y=\"50\"></rect></svg>"
      ],
      "text/plain": [
       "<svg viewBox=\"0 0 220 100\"><rect height=\"30\" width=\"20\" x=\"20\" y=\"50\"></rect></svg>"
      ]
     },
     "execution_count": 23,
     "metadata": {},
     "output_type": "execute_result"
    }
   ],
   "source": [
    "\n",
    "\n",
    "base_svg(\n",
    "    rect(x=\"20\",\n",
    "         y=\"50\",\n",
    "         width=\"20\", \n",
    "         height=\"30\", ),\n",
    "    )"
   ]
  },
  {
   "cell_type": "markdown",
   "metadata": {},
   "source": [
    "First we make the shape of a book. \n",
    "\n",
    "Then, the shelf."
   ]
  },
  {
   "cell_type": "code",
   "execution_count": 31,
   "metadata": {},
   "outputs": [
    {
     "data": {
      "application/vdom.v1+json": {
       "attributes": {
        "viewBox": "0 0 220 100"
       },
       "children": [
        {
         "attributes": {
          "fill": "brown",
          "height": "5",
          "width": "150",
          "x": "20",
          "y": "75"
         },
         "children": [],
         "tagName": "rect"
        }
       ],
       "tagName": "svg"
      },
      "text/html": [
       "<svg viewBox=\"0 0 220 100\"><rect fill=\"brown\" height=\"5\" width=\"150\" x=\"20\" y=\"75\"></rect></svg>"
      ],
      "text/plain": [
       "<svg viewBox=\"0 0 220 100\"><rect fill=\"brown\" height=\"5\" width=\"150\" x=\"20\" y=\"75\"></rect></svg>"
      ]
     },
     "execution_count": 31,
     "metadata": {},
     "output_type": "execute_result"
    }
   ],
   "source": [
    "base_svg(\n",
    "    rect(x=\"20\",\n",
    "         y=\"75\",\n",
    "         width=\"150\", \n",
    "         height=\"5\", \n",
    "         fill=\"brown\"),\n",
    "    )"
   ]
  },
  {
   "cell_type": "markdown",
   "metadata": {},
   "source": [
    "Combined:"
   ]
  },
  {
   "cell_type": "code",
   "execution_count": 34,
   "metadata": {},
   "outputs": [
    {
     "data": {
      "application/vdom.v1+json": {
       "attributes": {
        "viewBox": "0 0 220 100"
       },
       "children": [
        {
         "attributes": {
          "height": "30",
          "width": "20",
          "x": "20",
          "y": "50"
         },
         "children": [],
         "tagName": "rect"
        },
        {
         "attributes": {
          "fill": "brown",
          "height": "5",
          "width": "150",
          "x": "20",
          "y": "75"
         },
         "children": [],
         "tagName": "rect"
        }
       ],
       "tagName": "svg"
      },
      "text/html": [
       "<svg viewBox=\"0 0 220 100\"><rect height=\"30\" width=\"20\" x=\"20\" y=\"50\"></rect><rect fill=\"brown\" height=\"5\" width=\"150\" x=\"20\" y=\"75\"></rect></svg>"
      ],
      "text/plain": [
       "<svg viewBox=\"0 0 220 100\"><rect height=\"30\" width=\"20\" x=\"20\" y=\"50\"></rect><rect fill=\"brown\" height=\"5\" width=\"150\" x=\"20\" y=\"75\"></rect></svg>"
      ]
     },
     "execution_count": 34,
     "metadata": {},
     "output_type": "execute_result"
    }
   ],
   "source": [
    "base_svg(\n",
    "    rect(x=\"20\",\n",
    "         y=\"50\",\n",
    "         width=\"20\", \n",
    "         height=\"30\", ),\n",
    "\n",
    "    rect(x=\"20\",\n",
    "         y=\"75\",\n",
    "         width=\"150\", \n",
    "         height=\"5\", \n",
    "         fill=\"brown\"),\n",
    "    )"
   ]
  },
  {
   "cell_type": "markdown",
   "metadata": {},
   "source": [
    "## Multiple notebooks need to be spaced out"
   ]
  },
  {
   "cell_type": "code",
   "execution_count": 41,
   "metadata": {
    "scrolled": true
   },
   "outputs": [
    {
     "data": {
      "application/vdom.v1+json": {
       "attributes": {
        "viewBox": "0 0 220 100"
       },
       "children": [
        {
         "attributes": {
          "height": "30",
          "width": "20",
          "x": "20",
          "y": "50"
         },
         "children": [],
         "tagName": "rect"
        },
        {
         "attributes": {
          "height": "30",
          "width": "20",
          "x": "45",
          "y": "50"
         },
         "children": [],
         "tagName": "rect"
        },
        {
         "attributes": {
          "height": "30",
          "width": "20",
          "x": "70",
          "y": "50"
         },
         "children": [],
         "tagName": "rect"
        },
        {
         "attributes": {
          "height": "30",
          "width": "20",
          "x": "95",
          "y": "50"
         },
         "children": [],
         "tagName": "rect"
        },
        {
         "attributes": {
          "height": "30",
          "width": "20",
          "x": "120",
          "y": "50"
         },
         "children": [],
         "tagName": "rect"
        },
        {
         "attributes": {
          "height": "30",
          "width": "20",
          "x": "145",
          "y": "50"
         },
         "children": [],
         "tagName": "rect"
        },
        {
         "attributes": {
          "fill": "brown",
          "height": "5",
          "width": "155",
          "x": "15",
          "y": "75"
         },
         "children": [],
         "tagName": "rect"
        }
       ],
       "tagName": "svg"
      },
      "text/html": [
       "<svg viewBox=\"0 0 220 100\"><rect height=\"30\" width=\"20\" x=\"20\" y=\"50\"></rect><rect height=\"30\" width=\"20\" x=\"45\" y=\"50\"></rect><rect height=\"30\" width=\"20\" x=\"70\" y=\"50\"></rect><rect height=\"30\" width=\"20\" x=\"95\" y=\"50\"></rect><rect height=\"30\" width=\"20\" x=\"120\" y=\"50\"></rect><rect height=\"30\" width=\"20\" x=\"145\" y=\"50\"></rect><rect fill=\"brown\" height=\"5\" width=\"155\" x=\"15\" y=\"75\"></rect></svg>"
      ],
      "text/plain": [
       "<svg viewBox=\"0 0 220 100\"><rect height=\"30\" width=\"20\" x=\"20\" y=\"50\"></rect><rect height=\"30\" width=\"20\" x=\"45\" y=\"50\"></rect><rect height=\"30\" width=\"20\" x=\"70\" y=\"50\"></rect><rect height=\"30\" width=\"20\" x=\"95\" y=\"50\"></rect><rect height=\"30\" width=\"20\" x=\"120\" y=\"50\"></rect><rect height=\"30\" width=\"20\" x=\"145\" y=\"50\"></rect><rect fill=\"brown\" height=\"5\" width=\"155\" x=\"15\" y=\"75\"></rect></svg>"
      ]
     },
     "execution_count": 41,
     "metadata": {},
     "output_type": "execute_result"
    }
   ],
   "source": [
    "base_svg(\n",
    "    *(rect(x=f\"{20+x*25}\",\n",
    "         y=\"50\",\n",
    "         width=\"20\", \n",
    "         height=\"30\", ) for x in range(6)),\n",
    "\n",
    "    rect(x=\"15\",\n",
    "         y=\"75\",\n",
    "         width=\"155\", \n",
    "         height=\"5\", \n",
    "         fill=\"brown\"),\n",
    "    )"
   ]
  },
  {
   "cell_type": "code",
   "execution_count": null,
   "metadata": {},
   "outputs": [],
   "source": []
  }
 ],
 "metadata": {
  "kernelspec": {
   "display_name": "dev",
   "language": "python",
   "name": "dev"
  },
  "language_info": {
   "codemirror_mode": {
    "name": "ipython",
    "version": 3
   },
   "file_extension": ".py",
   "mimetype": "text/x-python",
   "name": "python",
   "nbconvert_exporter": "python",
   "pygments_lexer": "ipython3",
   "version": "3.6.8"
  },
  "nteract": {
   "version": "nteract-on-jupyter@2.0.13"
  },
  "title": "Building a bookstore: one bookshelf at a time"
 },
 "nbformat": 4,
 "nbformat_minor": 2
}
