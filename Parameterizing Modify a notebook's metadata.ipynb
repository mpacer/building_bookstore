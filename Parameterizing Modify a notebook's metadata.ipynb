{
 "cells": [
  {
   "cell_type": "code",
   "execution_count": null,
   "metadata": {},
   "outputs": [],
   "source": [
    "import json\n",
    "import io"
   ]
  },
  {
   "cell_type": "code",
   "execution_count": 7,
   "metadata": {
    "tags": [
     "parameters"
    ]
   },
   "outputs": [],
   "source": [
    "nb_name = \"Assembling components.ipynb\"\n",
    "title = \"Assembling components of a design language for Jupyter notebooks\""
   ]
  },
  {
   "cell_type": "code",
   "execution_count": 8,
   "metadata": {},
   "outputs": [],
   "source": [
    "with io.open(nb_name, 'r', encoding='utf-8') as f:\n",
    "    blah = json.load(f)\n",
    "    display(blah)"
   ]
  },
  {
   "cell_type": "markdown",
   "metadata": {},
   "source": [
    "It would be useful to have a way to modify the text of a notebook to have a particular title metadata attribute. \n",
    "\n",
    "As defined implicitly in https://github.com/nteract/nteract/pull/4122/files#diff-b9859e6bbffca812f04afcbb907ef603R74:\n",
    "```\n",
    "       .setIn(\n",
    "          [\n",
    "            overwriteMetadataFieldsAction.payload.contentRef,\n",
    "            \"model\",\n",
    "            \"notebook\",\n",
    "            \"metadata\",\n",
    "            \"title\"\n",
    "          ],\n",
    "          title\n",
    "        );\n",
    "```\n"
   ]
  },
  {
   "cell_type": "code",
   "execution_count": 10,
   "metadata": {},
   "outputs": [],
   "source": [
    "import nbformat\n",
    "nb = nbformat.read(nb_name, as_version=4)\n",
    "nb.metadata['title']= title"
   ]
  },
  {
   "cell_type": "code",
   "execution_count": 11,
   "metadata": {},
   "outputs": [],
   "source": [
    "nbformat.write(nb, nb_name)"
   ]
  },
  {
   "cell_type": "code",
   "execution_count": 19,
   "metadata": {},
   "outputs": [
    {
     "data": {
      "text/plain": [
       "{'cells': [{'cell_type': 'code',\n",
       "   'execution_count': None,\n",
       "   'metadata': {'hide_input': True, 'inputHidden': True},\n",
       "   'outputs': [{'data': {'text/html': ['<span style=\"color:red; font-family:Helvetica Neue, Helvetica, Arial, sans-serif; font-size:2em;\">An Exception was encountered at \\'In [2]\\'.</span>']},\n",
       "     'metadata': {},\n",
       "     'output_type': 'display_data'}],\n",
       "   'source': ['%%html\\n',\n",
       "    '<span style=\"color:red; font-family:Helvetica Neue, Helvetica, Arial, sans-serif; font-size:2em;\">An Exception was encountered at \\'In [2]\\'.</span>']},\n",
       "  {'cell_type': 'code',\n",
       "   'execution_count': 1,\n",
       "   'metadata': {'papermill': {'duration': 0.011187,\n",
       "     'end_time': '2019-05-05T09:28:18.135720',\n",
       "     'exception': False,\n",
       "     'start_time': '2019-05-05T09:28:18.124533',\n",
       "     'status': 'completed'},\n",
       "    'tags': ['injected-parameters']},\n",
       "   'outputs': [],\n",
       "   'source': ['# Parameters\\n',\n",
       "    'nb_name = \"Assembling Components.ipynb\"\\n',\n",
       "    'title = \"Reaching across notebooks is possible, if done responsibly.\"\\n']},\n",
       "  {'cell_type': 'markdown',\n",
       "   'metadata': {'papermill': {'duration': 0.002543,\n",
       "     'end_time': '2019-05-05T09:28:18.143899',\n",
       "     'exception': False,\n",
       "     'start_time': '2019-05-05T09:28:18.141356',\n",
       "     'status': 'completed'},\n",
       "    'tags': []},\n",
       "   'source': ['from vdom.svg import *\\n', '\\n']},\n",
       "  {'cell_type': 'markdown',\n",
       "   'metadata': {'papermill': {'duration': 0.002401,\n",
       "     'end_time': '2019-05-05T09:28:18.148810',\n",
       "     'exception': False,\n",
       "     'start_time': '2019-05-05T09:28:18.146409',\n",
       "     'status': 'completed'},\n",
       "    'tags': []},\n",
       "   'source': ['# Begin to assemble components\\n',\n",
       "    '\\n',\n",
       "    '## rect \\n',\n",
       "    '\\n',\n",
       "    'From https://developer.mozilla.org/en-US/docs/Web/SVG/Element/rect\\n',\n",
       "    '```svg\\n',\n",
       "    '<svg viewBox=\"0 0 220 100\" xmlns=\"http://www.w3.org/2000/svg\">\\n',\n",
       "    '  <!-- Simple rectangle -->\\n',\n",
       "    '  <rect width=\"100\" height=\"100\" />\\n',\n",
       "    '\\n',\n",
       "    '  <!-- Rounded corner rectangle -->\\n',\n",
       "    '  <rect x=\"120\" width=\"100\" height=\"100\" rx=\"15\" />\\n',\n",
       "    '</svg>\\n',\n",
       "    '```\\n']},\n",
       "  {'cell_type': 'code',\n",
       "   'execution_count': 2,\n",
       "   'metadata': {'inputHidden': False,\n",
       "    'outputHidden': False,\n",
       "    'papermill': {'duration': 0.087726,\n",
       "     'end_time': '2019-05-05T09:28:18.239384',\n",
       "     'exception': True,\n",
       "     'start_time': '2019-05-05T09:28:18.151658',\n",
       "     'status': 'failed'},\n",
       "    'tags': []},\n",
       "   'outputs': [{'ename': 'NameError',\n",
       "     'evalue': \"name 'rect' is not defined\",\n",
       "     'output_type': 'error',\n",
       "     'traceback': ['\\x1b[0;31m---------------------------------------------------------------------------\\x1b[0m',\n",
       "      '\\x1b[0;31mNameError\\x1b[0m                                 Traceback (most recent call last)',\n",
       "      '\\x1b[0;32m<ipython-input-2-39b24955a5a5>\\x1b[0m in \\x1b[0;36m<module>\\x1b[0;34m\\x1b[0m\\n\\x1b[0;32m----> 1\\x1b[0;31m \\x1b[0mrect\\x1b[0m\\x1b[0;34m(\\x1b[0m\\x1b[0;34m)\\x1b[0m\\x1b[0;34m\\x1b[0m\\x1b[0;34m\\x1b[0m\\x1b[0m\\n\\x1b[0m',\n",
       "      \"\\x1b[0;31mNameError\\x1b[0m: name 'rect' is not defined\"]}],\n",
       "   'source': ['rect()']}],\n",
       " 'metadata': {'kernelspec': {'display_name': 'dev',\n",
       "   'language': 'python',\n",
       "   'name': 'dev'},\n",
       "  'language_info': {'codemirror_mode': {'name': 'ipython', 'version': 3},\n",
       "   'file_extension': '.py',\n",
       "   'mimetype': 'text/x-python',\n",
       "   'name': 'python',\n",
       "   'nbconvert_exporter': 'python',\n",
       "   'pygments_lexer': 'ipython3',\n",
       "   'version': '3.6.8'},\n",
       "  'nteract': {'version': 'nteract-on-jupyter@2.0.13'},\n",
       "  'papermill': {'duration': 2.246334,\n",
       "   'end_time': '2019-05-05T09:28:19.473437',\n",
       "   'environment_variables': {},\n",
       "   'exception': True,\n",
       "   'input_path': 'Assembling Components.ipynb',\n",
       "   'output_path': 'Assembling Components.ipynb',\n",
       "   'parameters': {'nb_name': 'Assembling Components.ipynb',\n",
       "    'title': 'Reaching across notebooks is possible, if done responsibly.'},\n",
       "   'start_time': '2019-05-05T09:28:17.227103',\n",
       "   'version': '0.19.0'},\n",
       "  'title': 'Assembling components of a design language for Jupyter notebooks'},\n",
       " 'nbformat': 4,\n",
       " 'nbformat_minor': 2}"
      ]
     },
     "metadata": {},
     "output_type": "display_data"
    }
   ],
   "source": [
    "with io.open(nb_name, 'r', encoding='utf-8') as f:\n",
    "    blah = json.load(f)\n",
    "    display(blah)"
   ]
  }
 ],
 "metadata": {
  "celltoolbar": "Tags",
  "kernelspec": {
   "display_name": "dev",
   "language": "python",
   "name": "dev"
  },
  "language_info": {
   "codemirror_mode": {
    "name": "ipython",
    "version": 3
   },
   "file_extension": ".py",
   "mimetype": "text/x-python",
   "name": "python",
   "nbconvert_exporter": "python",
   "pygments_lexer": "ipython3",
   "version": "3.6.8"
  }
 },
 "nbformat": 4,
 "nbformat_minor": 2
}
