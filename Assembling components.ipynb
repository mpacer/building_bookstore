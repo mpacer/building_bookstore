{
 "cells": [
  {
   "cell_type": "markdown",
   "metadata": {},
   "source": [
    "from vdom.svg import *\n",
    "\n"
   ]
  },
  {
   "cell_type": "markdown",
   "metadata": {},
   "source": [
    "# Begin to assemble components\n",
    "\n",
    "## rect \n",
    "\n",
    "From https://developer.mozilla.org/en-US/docs/Web/SVG/Element/rect\n",
    "```svg\n",
    "<svg viewBox=\"0 0 220 100\" xmlns=\"http://www.w3.org/2000/svg\">\n",
    "  <!-- Simple rectangle -->\n",
    "  <rect width=\"100\" height=\"100\" />\n",
    "\n",
    "  <!-- Rounded corner rectangle -->\n",
    "  <rect x=\"120\" width=\"100\" height=\"100\" rx=\"15\" />\n",
    "</svg>\n",
    "```\n"
   ]
  },
  {
   "cell_type": "code",
   "execution_count": null,
   "metadata": {
    "inputHidden": false,
    "outputHidden": false
   },
   "outputs": [],
   "source": [
    "rect()"
   ]
  }
 ],
 "metadata": {
  "kernelspec": {
   "display_name": "dev",
   "language": "python",
   "name": "dev"
  },
  "language_info": {
   "codemirror_mode": {
    "name": "ipython",
    "version": 3
   },
   "file_extension": ".py",
   "mimetype": "text/x-python",
   "name": "python",
   "nbconvert_exporter": "python",
   "pygments_lexer": "ipython3",
   "version": "3.6.8"
  },
  "nteract": {
   "version": "nteract-on-jupyter@2.0.13"
  },
  "title": "Assembling components of a design language for Jupyter notebooks"
 },
 "nbformat": 4,
 "nbformat_minor": 2
}
