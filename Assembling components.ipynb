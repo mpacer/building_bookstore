{
 "cells": [
  {
   "cell_type": "code",
   "execution_count": 1,
   "metadata": {},
   "outputs": [],
   "source": [
    "from vdom.svg import *\n",
    "\n"
   ]
  },
  {
   "cell_type": "markdown",
   "metadata": {},
   "source": [
    "# Begin to assemble components\n",
    "\n",
    "## rect \n",
    "\n",
    "From https://developer.mozilla.org/en-US/docs/Web/SVG/Element/rect\n",
    "```svg\n",
    "<svg viewBox=\"0 0 220 100\" xmlns=\"http://www.w3.org/2000/svg\">\n",
    "  <!-- Simple rectangle -->\n",
    "  <rect width=\"100\" height=\"100\" />\n",
    "\n",
    "  <!-- Rounded corner rectangle -->\n",
    "  <rect x=\"120\" width=\"100\" height=\"100\" rx=\"15\" />\n",
    "</svg>\n",
    "```\n"
   ]
  },
  {
   "cell_type": "code",
   "execution_count": 2,
   "metadata": {
    "inputHidden": false,
    "outputHidden": false
   },
   "outputs": [
    {
     "data": {
      "application/vdom.v1+json": {
       "attributes": {},
       "children": [],
       "tagName": "rect"
      },
      "text/html": [
       "<rect></rect>"
      ],
      "text/plain": [
       "<rect></rect>"
      ]
     },
     "execution_count": 2,
     "metadata": {},
     "output_type": "execute_result"
    }
   ],
   "source": [
    "# rect()"
   ]
  },
  {
   "cell_type": "code",
   "execution_count": null,
   "metadata": {},
   "outputs": [],
   "source": []
  }
 ],
 "metadata": {
  "kernelspec": {
   "display_name": "dev",
   "language": "python",
   "name": "dev"
  },
  "language_info": {
   "codemirror_mode": {
    "name": "ipython",
    "version": 3
   },
   "file_extension": ".py",
   "mimetype": "text/x-python",
   "name": "python",
   "nbconvert_exporter": "python",
   "pygments_lexer": "ipython3",
   "version": "3.6.8"
  },
  "nteract": {
   "version": "nteract-on-jupyter@2.0.13"
  },
  "title": "Reaching across notebooks is possible, if done responsibly."
 },
 "nbformat": 4,
 "nbformat_minor": 2
}
